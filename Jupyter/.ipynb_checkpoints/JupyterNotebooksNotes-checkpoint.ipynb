{
 "cells": [
  {
   "cell_type": "markdown",
   "metadata": {},
   "source": [
    "# Jupyter Notebooks Notes \n",
    "\n",
    "\n",
    "## Table Of Content\n",
    "\n",
    "- [Overview](#Overview)\n",
    "- [Create Table of Content](#Create-Table-of-Content)\n",
    "- [Jupyter Notebook Getting Started](#Jupyter-Notebook-Getting-Started) \n",
    "    - [Installing Jupyter Notebooks](#Installing-Jupyter-Notebooks) \n",
    "        - [Running Jutpiter Notebook](#Running-Jutpiter-Notebook)\n",
    "        - [Uploading Notebook to Anconda Cloud](#Uploading-Notebook-to-Anconda-Cloud)\n",
    "- [Keyboard Shortcuts](#Keyboard-Shortcuts)\n",
    "- [Notebook Syntax](#Notebook-Syntax)\n",
    "    - [Tables](#Tables)\n",
    "    - [Images and Videos](#Images-and-Videos)\n",
    "    - [LaTeX Equations](#LaTeX-Equations)\n",
    "    - [Maxwell's Equations](#Maxwell%E2%80%99s-Equations)\n",
    "- [Basic Magics](#Basic-Magics)\n",
    "- [Local Custom Styles](#Local-Custom-Styles)\n",
    "- [Global Custom Styles](#Global-Custom-Styles)\n"
   ]
  },
  {
   "cell_type": "markdown",
   "metadata": {},
   "source": [
    "## Overview\n",
    "The Jupyter Notebooks is an open-source web application that allows to <span class=\"yellow\">create and share documents that contain live code, equations, visualizations and narrative text</span>. This includes: data cleaning and transformation, numerical simulation, statistical modeling, data visualization, machine learning, and much more. The Jupyter Notebook app supports [Python](https://www.python.org/) and several other languages. For more information see [Jupyter](http://jupyter.org/). \n",
    "<span class=\"yellow\">Jupyter Notebooks is a brillant mechanism to keep notes and experiment with Python language. You can build snippets of code, annotate them, and execute them.</span> \n",
    "<a href=\"http://jupyter.org/\" target=\"_blank\" title=\"http://jupyter.org/\"><img src=\"https://docs.google.com/uc?export=download&id=1_0GMwK7gqzloPBFlodfis4V5_INLeDey\" alt=\"jupyter\" width=\"600\"/></a>\n",
    "\n",
    "\n",
    "### Create Table of Content \n",
    "To create a table of content for a Notebook, you can use the predifined header links and include them in the standard link construct such as [Maxwell's Equations](#Maxwell%E2%80%99s-Equations). \n",
    "You can get the link value by mousing over the header for which you want to get the link and then right-click on the pilcrow &para;, also called the paragraph mark. From the dropdown menu select **Copy Link Address**. \n",
    "![TOC](https://docs.google.com/uc?export=download&id=1AMpjLh32yPTiaWKmHTV4WHJ7KOJWmNft)\n",
    "From the link just copy the last part prefixed by the # sign and used it as the value in the standard link construct.  \n"
   ]
  },
  {
   "cell_type": "markdown",
   "metadata": {},
   "source": [
    "## Jupyter Notebook Getting Started\n",
    "Jupyter Notebook is a powerful tool for interactively developing and presenting data science projects. A notebook integrates code and its output into a single document that combines visualizations, narrative text, mathematical equations, and other rich media. The intuitive workflow promotes iterative and rapid development, making notebooks an increasingly popular choice at the heart of contemporary data science, analysis, and increasingly science at large. Best of all, as part of the open source Project Jupyter, they are completely free, For more information, see [Jupyter Notebook for Beginners: A Tutorial](https://www.dataquest.io/blog/jupyter-notebook-tutorial/).\n",
    "\n",
    "### What is an ipynb File?\n",
    "It will be useful to understand what this file really is. Each .ipynb file is a text file that describes the contents of your notebook in a format called JSON. Each cell and its contents, including image attachments that have been converted into strings of text, is listed therein along with some metadata. You can edit this yourself — if you know what you are doing! — by selecting “Edit > Edit Notebook Metadata” from the menu bar in the notebook.\n",
    "\n",
    "You can also view the contents of your notebook files by selecting “Edit” from the controls on the dashboard, but the keyword here is “can“; there’s no reason other than curiosity to do so unless you really know what you are doing.\n",
    "\n",
    "### Installing Jupyter Notebooks \n",
    "You can run Jupyter Notebook online at . In these notes we run Jupyter on a Mac laptop in the integrated enviroment called **Anaconda** or **Conda** for short. It is an open source package management system and environment management system that runs on Windows, macOS and Linux. Conda quickly installs, runs and updates packages and their dependencies. Conda easily creates, saves, loads and switches between environments on your local computer. It was created for Python programs, but it can package and distribute software for any language. It also comes with integrated Jupyter Notebook. \n",
    "A suggested alternative to \"stand-alone\" Python is a package and environment mangement system such as [Conda](https://conda.io/docs/index.html). One big advantadge is the creation of **virtual enviroments** which do not intefer with the uderlying OS environment. The following are some of the Conda main advantadges:\n",
    "- Quickly installs, runs and updates packages and their dependencies. \n",
    "- Easily creates, saves, loads and switches between environments on your local computer. It was created for Python programs, but it can package and distribute software for any language.  \n",
    "- Conda as a package manager helps you find and install packages. \n",
    "- If you need a package that requires a different version of Python, with just a few commands, you can set up a totally separate environment to run that different version of Python, while continuing to run your usual version of Python in your normal environment.\n",
    "- That said, let's install Conda following the instructions found at [Downloading conda](https://conda.io/docs/user-guide/install/download.html). <span class=\"orange\">Install Anaconda Navigator, not Miniconda.</span>  \n",
    "- I also signed for the [Anaconda Cloud](http://anaconda.org). Where packages, notebooks, projects and environments are shared.\n",
    "- Please, see [notebooks-cheatsheet](https://www.cheatography.com/weidadeyue/cheat-sheets/jupyter-notebook/pdf_bw/) and [Getting started with Conda](https://conda.io/docs/user-guide/getting-started.html).\n",
    "\n",
    "#### Running Jutpiter Notebook\n",
    "\n",
    "1. Activate the **Anaconda Navigator**. The following UI is displayed:\n",
    "<img src=\"https://docs.google.com/uc?export=download&id=1oxpH0JhUxnqwC7YzDGV51twxSCGAAX23\" width=\"600\"/>\n",
    "1. Click the **Launch** button  Jupyter Notebook from the related button \n",
    "The Jupyter Noteboook app will run on the local host on tha available port. \n",
    "For example [http://localhost:8892/tree](http://localhost:8892/tree).\n",
    "1. Select the Notebook.  Notice that Jupyter Notebook runs from the direct\n",
    "\n",
    "#### Uploading Notebook to Anconda Cloud\n",
    "To upload a notebbok file the cloud follow these steps:\n",
    "1. Activate your terminal console.\n",
    "1. Change the directory where the notebook file is.\n",
    "1. Login into the [Anaconda Cloud](http://anaconda.org) cloud by executing this command: `anaconda login`\n",
    "1. Upload the file by executing this command: `anaconda upload --force \"filename.ipynb\"`\n"
   ]
  },
  {
   "cell_type": "markdown",
   "metadata": {},
   "source": [
    "## Keyboard Shortcuts\n",
    "You can get a list of keybord shortcuts under the menu at the top: **Help > Keyboard Shortcuts**, or by pressing **H** in command mode. \n",
    "Another way to access keyboard shortcuts, and a handy way to learn them is to use the command palette: **Cmd + Shift + P** (or **Ctrl + Shift + P** on Linux and Windows)."
   ]
  },
  {
   "cell_type": "code",
   "execution_count": 1,
   "metadata": {},
   "outputs": [
    {
     "name": "stdout",
     "output_type": "stream",
     "text": [
      "hello world!\n"
     ]
    }
   ],
   "source": [
    "# Example of code snippet\n",
    "greetings = \"hello world!\"\n",
    "print(greetings)"
   ]
  },
  {
   "cell_type": "markdown",
   "metadata": {},
   "source": [
    "### Jupyter Notebook Keyboard Input Modes\n",
    "The Jupyter Notebook has two different keyboard input modes. \n",
    "\n",
    "1. **Edit mode** allows you to type code or text into a cell and is indicated by a **green cell border**. \n",
    "2. **Command mode** binds the keyboard to notebook level commands and is indicated by a grey cell border with a blue left margin.\n",
    "\n",
    "See also [28 Jupyter Notebook tips, tricks, and shortcuts](https://www.dataquest.io/blog/jupyter-notebook-tips-tricks-shortcuts/).\n",
    "\n",
    "\n",
    "#### Jupyter Notebook Input Modes Keyboard Shortcuts\n",
    "The following are the Mac OS X modifier keys you must be familiar with when using the shorcuts. See also [Making Sense of Mac Keyboard Symbols](http://osxdaily.com/2012/03/27/making-sense-of-mac-keyboard-symbols/).\n",
    "\n",
    "| Symbol| Meaning|\n",
    "|:----- |:-------| \n",
    "| ⌘    | Command|        \n",
    "| ⌃    | Control|\n",
    "| ⌥    | Option|\n",
    "| ⇧    | Shift|\n",
    "| ↩    | Return|\n",
    "| ␣     | Space|\n",
    "| ⇥    | Tab|\n",
    "\n",
    "See <div class=\"warning\">[Notebooks-Cheatsheet](https://www.cheatography.com/weidadeyue/cheat-sheets/jupyter-notebook/pdf_bw/)</div>           "
   ]
  },
  {
   "cell_type": "markdown",
   "metadata": {},
   "source": [
    "## Notebook Syntax \n",
    "As you have noticed this document is a **Jupyter Notebook**. You can find more information at this location: [The Jupyter Notebook](https://jupyter-notebook.readthedocs.io/en/stable/notebook.html) and plenty of examples at [Notebook Examples](https://jupyter-notebook.readthedocs.io/en/stable/examples/Notebook/examples_index.html).\n",
    "Refer akso to [Markdown Cells](https://jupyter-notebook.readthedocs.io/en/stable/examples/Notebook/Working%20With%20Markdown%20Cells.html#Markdown-Cells).\n",
    "\n",
    "### Tables\n",
    "You can create tables with pipes | and hyphens -. Hyphens are used to create each column's header, while pipes separate each column. You must include a blank line before your table in order for it to correctly render.\n",
    "\n",
    "\n",
    "| First Header  | Second Header |\n",
    "| ------------- | ------------- |\n",
    "| <img src=\"\" width=\"200\"/>  Content Cell| Content Cell  |\n",
    "| Content Cell  | Content Cell  |\n",
    "\n",
    "The pipes on either end of the table are optional.\n",
    "\n",
    "Cells can vary in width and do not need to be perfectly aligned within columns. There must be at least three hyphens in each column of the header row.\n",
    "\n",
    "| Command | Description |\n",
    "| --- | --- |\n",
    "| git status | List all new or modified files |\n",
    "| git diff <img src=\"\" width=\"200\"/>| Show file differences that haven't been staged |\n",
    "\n",
    "For more information, see [Organizing information with tables](https://help.github.com/articles/organizing-information-with-tables/).\n",
    "\n",
    "### Images and Videos\n",
    "The following are images and videos which are located in a directory or subdirectory on the machine where the notebook file resides.\n",
    "\n",
    "|What|Media|\n",
    "|----|-----|\n",
    "|Vesuviana <img src=\"\" width=\"300\">|<img src=\"https://docs.google.com/uc?export=download&id=1RWKTUyowMxF_OUHdUau1HdntSSa3Szzq\" width=\"300px\" height=\"300px\" align=\"left\"/>|\n",
    "|Facendo un 'cazze|<video controls src=\"https://docs.google.com/uc?export=download&id=151_iDpkc4TM8yoFoqnek0bdKIMGK_S65\" width=\"300px\" height=\"300px\"/>|\n",
    "\n",
    "\n",
    "If you want to share your notebook file then you must have the resources on a public server. The following is an example of an image located on the Google Drive.\n",
    "\n",
    "![monti python](https://docs.google.com/uc?export=download&id=1dlNNhKFBvwlL_YVgl8KEgJD2_tn4Pydl)\n",
    "\n",
    "#### Using Images Stored in Google Drive\n",
    "These are the steps to make an image sharable so it can be used in a notebook.\n",
    "\n",
    "1. In your Google Drive, create a public folder as follows:\n",
    "    1. Create a new folder and name it *Image*, for instance.\n",
    "    1. Right click the folder, just created and select **Share** from the drop-down menu.\n",
    "    1. In the popup dialog window, click the **Advanced** link in the bottom right. \n",
    "    1. In the section *Who has access* select *Public on the web - Anyone on the Internet can find an view*.\n",
    "    1. Click **Done** button. \n",
    "1. Store the image in the folder you just created.\n",
    "1. Right click on the image, and from the drop down menu select **Share**.\n",
    "1. Click the **Copy link** button. A link is copied in your clipboard.\n",
    "1. From the link copy the long image ID made of numbers and letters.\n",
    "1. Replace *imageID* in the following URL: https://docs.google.com/uc?export=download&id=<imageID> with the ID you copied in the previous step.  \n",
    "1. Copy this URL in the markdown image tag such as: ![test](https://docs.google.com/uc?export=download&id=1dJJISxvmAnFnyLqzYXXOEXH20EW76ywj)\n",
    "1. Or in the image tag and changing the width, for example: \n",
    "<img src=\"https://docs.google.com/uc?export=download&id=1dJJISxvmAnFnyLqzYXXOEXH20EW76ywj\" width=\"200\"/>\n",
    "\n",
    "#### Using Images Stored in GitHub\n",
    "\n",
    "<img src=\"https://min.gitcdn.link/repo/milexm/git-notes/master/images/git_github.png\"/>\n",
    "\n",
    "\n",
    "#### Using Images Stored Locally\n",
    "\n",
    "![carpe diem](../Images/Jupyter/carpe_diem.png)\n",
    "\n",
    "<img src=\"../Images/Jupyter/pulicinelle.png\" width=\"200\"/>\n",
    "\n",
    "\n",
    "### LaTeX Equations\n",
    "Courtesy of MathJax, you can include mathematical expressions both inline and displayed.\n",
    "See also [LaTex Equations](https://jupyter-notebook.readthedocs.io/en/stable/examples/Notebook/Working%20With%20Markdown%20Cells.html#LaTeX-equations).\n",
    " \n",
    "$e^{i\\pi} + 1 = 0$\n",
    "$$e^x=\\sum_{i=0}^\\infty \\frac{1}{i!}x^i$$\n",
    "\n",
    "### Maxwell’s Equations\n",
    "See, also [Motivating Examples](https://jupyter-notebook.readthedocs.io/en/stable/examples/Notebook/Typesetting%20Equations.html#The-Lorenz-Equations).\n",
    "\\begin{align}\n",
    "\\nabla \\times \\vec{\\mathbf{B}} -\\, \\frac1c\\, \\frac{\\partial\\vec{\\mathbf{E}}}{\\partial t} & = \\frac{4\\pi}{c}\\vec{\\mathbf{j}} \\\\   \\nabla \\cdot \\vec{\\mathbf{E}} & = 4 \\pi \\rho \\\\\n",
    "\\nabla \\times \\vec{\\mathbf{E}}\\, +\\, \\frac1c\\, \\frac{\\partial\\vec{\\mathbf{B}}}{\\partial t} & = \\vec{\\mathbf{0}} \\\\\n",
    "\\nabla \\cdot \\vec{\\mathbf{B}} & = 0\n",
    "\\end{align}\n"
   ]
  },
  {
   "cell_type": "markdown",
   "metadata": {},
   "source": [
    "## Basic Magics\n",
    "Magics are handy commands built into the IPython kernel that make it easier to perform particular tasks. Although they often resemble unix commands, under the hood they are all implemented in Python. There exist far more magics than it would make sense to cover, but it’s worth highlighting a variety of examples. We will start with a few basics before moving on to more interesting cases.\n",
    "\n",
    "There are two categories of magic: **line magics** and **cell magics**. Respectively, they act on a single line or can be spread across multiple lines or entire cells. Quote and more borrowed from [Advanced Jupyter Notebooks Tutorial](https://www.dataquest.io/blog/advanced-jupyter-notebooks-tutorial/). "
   ]
  },
  {
   "cell_type": "code",
   "execution_count": 70,
   "metadata": {},
   "outputs": [
    {
     "data": {
      "application/json": {
       "cell": {
        "!": "OSMagics",
        "HTML": "Other",
        "SVG": "Other",
        "bash": "Other",
        "capture": "ExecutionMagics",
        "debug": "ExecutionMagics",
        "file": "Other",
        "html": "DisplayMagics",
        "javascript": "DisplayMagics",
        "js": "DisplayMagics",
        "latex": "DisplayMagics",
        "markdown": "DisplayMagics",
        "perl": "Other",
        "prun": "ExecutionMagics",
        "pypy": "Other",
        "python": "Other",
        "python2": "Other",
        "python3": "Other",
        "ruby": "Other",
        "script": "ScriptMagics",
        "sh": "Other",
        "svg": "DisplayMagics",
        "sx": "OSMagics",
        "system": "OSMagics",
        "time": "ExecutionMagics",
        "timeit": "ExecutionMagics",
        "writefile": "OSMagics"
       },
       "line": {
        "alias": "OSMagics",
        "alias_magic": "BasicMagics",
        "autocall": "AutoMagics",
        "automagic": "AutoMagics",
        "autosave": "KernelMagics",
        "bookmark": "OSMagics",
        "cat": "Other",
        "cd": "OSMagics",
        "clear": "KernelMagics",
        "colors": "BasicMagics",
        "config": "ConfigMagics",
        "connect_info": "KernelMagics",
        "cp": "Other",
        "debug": "ExecutionMagics",
        "dhist": "OSMagics",
        "dirs": "OSMagics",
        "doctest_mode": "BasicMagics",
        "ed": "Other",
        "edit": "KernelMagics",
        "env": "OSMagics",
        "gui": "BasicMagics",
        "hist": "Other",
        "history": "HistoryMagics",
        "killbgscripts": "ScriptMagics",
        "ldir": "Other",
        "less": "KernelMagics",
        "lf": "Other",
        "lk": "Other",
        "ll": "Other",
        "load": "CodeMagics",
        "load_ext": "ExtensionMagics",
        "loadpy": "CodeMagics",
        "logoff": "LoggingMagics",
        "logon": "LoggingMagics",
        "logstart": "LoggingMagics",
        "logstate": "LoggingMagics",
        "logstop": "LoggingMagics",
        "ls": "Other",
        "lsmagic": "BasicMagics",
        "lx": "Other",
        "macro": "ExecutionMagics",
        "magic": "BasicMagics",
        "man": "KernelMagics",
        "matplotlib": "PylabMagics",
        "mkdir": "Other",
        "more": "KernelMagics",
        "mv": "Other",
        "notebook": "BasicMagics",
        "page": "BasicMagics",
        "pastebin": "CodeMagics",
        "pdb": "ExecutionMagics",
        "pdef": "NamespaceMagics",
        "pdoc": "NamespaceMagics",
        "pfile": "NamespaceMagics",
        "pinfo": "NamespaceMagics",
        "pinfo2": "NamespaceMagics",
        "pip": "BasicMagics",
        "popd": "OSMagics",
        "pprint": "BasicMagics",
        "precision": "BasicMagics",
        "profile": "BasicMagics",
        "prun": "ExecutionMagics",
        "psearch": "NamespaceMagics",
        "psource": "NamespaceMagics",
        "pushd": "OSMagics",
        "pwd": "OSMagics",
        "pycat": "OSMagics",
        "pylab": "PylabMagics",
        "qtconsole": "KernelMagics",
        "quickref": "BasicMagics",
        "recall": "HistoryMagics",
        "rehashx": "OSMagics",
        "reload_ext": "ExtensionMagics",
        "rep": "Other",
        "rerun": "HistoryMagics",
        "reset": "NamespaceMagics",
        "reset_selective": "NamespaceMagics",
        "rm": "Other",
        "rmdir": "Other",
        "run": "ExecutionMagics",
        "save": "CodeMagics",
        "sc": "OSMagics",
        "set_env": "OSMagics",
        "store": "StoreMagics",
        "sx": "OSMagics",
        "system": "OSMagics",
        "tb": "ExecutionMagics",
        "time": "ExecutionMagics",
        "timeit": "ExecutionMagics",
        "unalias": "OSMagics",
        "unload_ext": "ExtensionMagics",
        "who": "NamespaceMagics",
        "who_ls": "NamespaceMagics",
        "whos": "NamespaceMagics",
        "xdel": "NamespaceMagics",
        "xmode": "BasicMagics"
       }
      },
      "text/plain": [
       "Available line magics:\n",
       "%alias  %alias_magic  %autocall  %automagic  %autosave  %bookmark  %cat  %cd  %clear  %colors  %config  %connect_info  %cp  %debug  %dhist  %dirs  %doctest_mode  %ed  %edit  %env  %gui  %hist  %history  %killbgscripts  %ldir  %less  %lf  %lk  %ll  %load  %load_ext  %loadpy  %logoff  %logon  %logstart  %logstate  %logstop  %ls  %lsmagic  %lx  %macro  %magic  %man  %matplotlib  %mkdir  %more  %mv  %notebook  %page  %pastebin  %pdb  %pdef  %pdoc  %pfile  %pinfo  %pinfo2  %popd  %pprint  %precision  %profile  %prun  %psearch  %psource  %pushd  %pwd  %pycat  %pylab  %qtconsole  %quickref  %recall  %rehashx  %reload_ext  %rep  %rerun  %reset  %reset_selective  %rm  %rmdir  %run  %save  %sc  %set_env  %store  %sx  %system  %tb  %time  %timeit  %unalias  %unload_ext  %who  %who_ls  %whos  %xdel  %xmode\n",
       "\n",
       "Available cell magics:\n",
       "%%!  %%HTML  %%SVG  %%bash  %%capture  %%debug  %%file  %%html  %%javascript  %%js  %%latex  %%markdown  %%perl  %%prun  %%pypy  %%python  %%python2  %%python3  %%ruby  %%script  %%sh  %%svg  %%sx  %%system  %%time  %%timeit  %%writefile\n",
       "\n",
       "Automagic is ON, % prefix IS NOT needed for line magics."
      ]
     },
     "execution_count": 70,
     "metadata": {},
     "output_type": "execute_result"
    }
   ],
   "source": [
    "# To see the available magics, you can execute the following command:\n",
    "%lsmagic"
   ]
  },
  {
   "cell_type": "code",
   "execution_count": 60,
   "metadata": {},
   "outputs": [
    {
     "data": {
      "text/html": [
       "<h5>Using HTML</h5>\n",
       "This is <em>really</em> neat!"
      ],
      "text/plain": [
       "<IPython.core.display.HTML object>"
      ]
     },
     "metadata": {},
     "output_type": "display_data"
    }
   ],
   "source": [
    "%%HTML\n",
    "<h5>Using HTML</h5>\n",
    "This is <em>really</em> neat!"
   ]
  },
  {
   "cell_type": "code",
   "execution_count": 66,
   "metadata": {},
   "outputs": [
    {
     "data": {
      "text/latex": [
       "Some important equations:  \n",
       "$E = mc^2$ \n",
       "$e^{i pi} = -1$"
      ],
      "text/plain": [
       "<IPython.core.display.Latex object>"
      ]
     },
     "metadata": {},
     "output_type": "display_data"
    }
   ],
   "source": [
    "%%latex\n",
    "Some important equations:  \n",
    "$E = mc^2$ \n",
    "$e^{i pi} = -1$"
   ]
  },
  {
   "cell_type": "code",
   "execution_count": 80,
   "metadata": {},
   "outputs": [
    {
     "data": {
      "application/javascript": [
       "IPython.notebook.set_autosave_interval(60000)"
      ]
     },
     "metadata": {},
     "output_type": "display_data"
    },
    {
     "name": "stdout",
     "output_type": "stream",
     "text": [
      "Autosaving every 60 seconds\n"
     ]
    }
   ],
   "source": [
    "# Autosave every 60 sec\n",
    "%autosave 60"
   ]
  },
  {
   "cell_type": "markdown",
   "metadata": {},
   "source": [
    "## Enhancing Charts with Seaborn\n",
    "One of the most common exercises Jupyter Notebook users undertake is producing plots. But Matplotlib, Python’s most popular charting library, isn’t renowned for attractive results despite it’s customisability. Seaborn instantly prettifies Matplotlib plots and even adds some additional features pertinent to data science, making your reports prettier and your job easier. It’s included in the default Anaconda installation or easily installed via pip install seaborn. \n",
    "Quote and more borrowed from [Advanced Jupyter Notebooks Tutorial](https://www.dataquest.io/blog/advanced-jupyter-notebooks-tutorial/). "
   ]
  },
  {
   "cell_type": "code",
   "execution_count": 69,
   "metadata": {},
   "outputs": [
    {
     "data": {
      "text/html": [
       "<div>\n",
       "<style scoped>\n",
       "    .dataframe tbody tr th:only-of-type {\n",
       "        vertical-align: middle;\n",
       "    }\n",
       "\n",
       "    .dataframe tbody tr th {\n",
       "        vertical-align: top;\n",
       "    }\n",
       "\n",
       "    .dataframe thead th {\n",
       "        text-align: right;\n",
       "    }\n",
       "</style>\n",
       "<table border=\"1\" class=\"dataframe\">\n",
       "  <thead>\n",
       "    <tr style=\"text-align: right;\">\n",
       "      <th></th>\n",
       "      <th>total_bill</th>\n",
       "      <th>tip</th>\n",
       "      <th>sex</th>\n",
       "      <th>smoker</th>\n",
       "      <th>day</th>\n",
       "      <th>time</th>\n",
       "      <th>size</th>\n",
       "    </tr>\n",
       "  </thead>\n",
       "  <tbody>\n",
       "    <tr>\n",
       "      <th>0</th>\n",
       "      <td>16.99</td>\n",
       "      <td>1.01</td>\n",
       "      <td>Female</td>\n",
       "      <td>No</td>\n",
       "      <td>Sun</td>\n",
       "      <td>Dinner</td>\n",
       "      <td>2</td>\n",
       "    </tr>\n",
       "    <tr>\n",
       "      <th>1</th>\n",
       "      <td>10.34</td>\n",
       "      <td>1.66</td>\n",
       "      <td>Male</td>\n",
       "      <td>No</td>\n",
       "      <td>Sun</td>\n",
       "      <td>Dinner</td>\n",
       "      <td>3</td>\n",
       "    </tr>\n",
       "    <tr>\n",
       "      <th>2</th>\n",
       "      <td>21.01</td>\n",
       "      <td>3.50</td>\n",
       "      <td>Male</td>\n",
       "      <td>No</td>\n",
       "      <td>Sun</td>\n",
       "      <td>Dinner</td>\n",
       "      <td>3</td>\n",
       "    </tr>\n",
       "    <tr>\n",
       "      <th>3</th>\n",
       "      <td>23.68</td>\n",
       "      <td>3.31</td>\n",
       "      <td>Male</td>\n",
       "      <td>No</td>\n",
       "      <td>Sun</td>\n",
       "      <td>Dinner</td>\n",
       "      <td>2</td>\n",
       "    </tr>\n",
       "    <tr>\n",
       "      <th>4</th>\n",
       "      <td>24.59</td>\n",
       "      <td>3.61</td>\n",
       "      <td>Female</td>\n",
       "      <td>No</td>\n",
       "      <td>Sun</td>\n",
       "      <td>Dinner</td>\n",
       "      <td>4</td>\n",
       "    </tr>\n",
       "  </tbody>\n",
       "</table>\n",
       "</div>"
      ],
      "text/plain": [
       "   total_bill   tip     sex smoker  day    time  size\n",
       "0       16.99  1.01  Female     No  Sun  Dinner     2\n",
       "1       10.34  1.66    Male     No  Sun  Dinner     3\n",
       "2       21.01  3.50    Male     No  Sun  Dinner     3\n",
       "3       23.68  3.31    Male     No  Sun  Dinner     2\n",
       "4       24.59  3.61  Female     No  Sun  Dinner     4"
      ]
     },
     "execution_count": 69,
     "metadata": {},
     "output_type": "execute_result"
    }
   ],
   "source": [
    "# First, we’ll import our libraries and load some data.\n",
    "import matplotlib.pyplot as plt\n",
    "import seaborn as sns\n",
    "data = sns.load_dataset(\"tips\")\n",
    "\n",
    "data.head()"
   ]
  },
  {
   "cell_type": "code",
   "execution_count": 76,
   "metadata": {},
   "outputs": [
    {
     "data": {
      "image/png": "[encoded data removed]",
      "text/plain": [
       "<Figure size 432x288 with 1 Axes>"
      ]
     },
     "metadata": {
      "needs_background": "light"
     },
     "output_type": "display_data"
    }
   ],
   "source": [
    "# We can easily plot total_bill vs tip in Matplotlib.\n",
    "plt.scatter(data.total_bill, data.tip);"
   ]
  },
  {
   "cell_type": "code",
   "execution_count": 78,
   "metadata": {},
   "outputs": [
    {
     "data": {
      "image/png": "[encoded data removed]",
      "text/plain": [
       "<Figure size 432x288 with 1 Axes>"
      ]
     },
     "metadata": {
      "needs_background": "light"
     },
     "output_type": "display_data"
    }
   ],
   "source": [
    "# Plotting in Seaborn is just as easy! \n",
    "# Seaborn is closely integrated with pandas data structures, \n",
    "# its own scatter plot function unlocks additional features.\n",
    "sns.scatterplot(x=\"total_bill\", y=\"tip\", data=data);\n"
   ]
  },
  {
   "cell_type": "code",
   "execution_count": 79,
   "metadata": {
    "scrolled": true
   },
   "outputs": [
    {
     "data": {
      "image/png": "[encoded data removed]",
      "text/plain": [
       "<Figure size 432x288 with 1 Axes>"
      ]
     },
     "metadata": {
      "needs_background": "light"
     },
     "output_type": "display_data"
    }
   ],
   "source": [
    "# Let’s color by the size of the party paying the bill while also \n",
    "# discriminating between smokers and non-smokers.\n",
    "sns.scatterplot(x=\"total_bill\", y=\"tip\", hue=\"size\", style=\"smoker\", data=data);"
   ]
  },
  {
   "cell_type": "markdown",
   "metadata": {},
   "source": [
    "## Custom Styles \n",
    "The styles shown in this section work on your local machine, 'cause the style *custom.css* file is local, in the case of Jupyter Notebooks. The file is located at \n",
    "<span class=\"m_warning\">/Users/user name/.jupyter/custom/custom.css</span> on the Mac computer.  But they do not work if the file is on a public server such as Anaconda cloud or GitHub. To solve the problem we make the *custom.css* file available globally on GitHub and run a script similar to the following in the markdown file:\n",
    "\n",
    "```\n",
    "from IPython.core.display import HTML\n",
    "\n",
    "def set_css_style(css_file_path):\n",
    "    \"\"\"\n",
    "    Read the custom CSS file and load it into Jupyter.\n",
    "    Pass the file path to the CSS file.\n",
    "    \"\"\"\n",
    "    styles = open(css_file_path, \"r\").read()\n",
    "    return HTML(styles)\n",
    "set_css_style('../Css/custom.css')\n",
    "\n",
    "```\n",
    "\n",
    "\n",
    "### Style Examples\n",
    "\n",
    "#### Markers\n",
    "***\n",
    "<span class=\"m_danger\">Danger</span> \n",
    "<span class=\"m_warning\">Warning</span>\n",
    "<span class=\"m_success\">Success</span> \n",
    "<span class=\"m_info\">Info</span>\n",
    "<span class=\"m_other\">Other</span>\n",
    "\n",
    "\n",
    "#### Notes\n",
    "***\n",
    "<div class=\"danger\">Danger</div>\n",
    "<div class=\"warning\">Warning</div>\n",
    "<div class=\"success\">Success</div>\n",
    "<div class=\"info\">Info</div>\n",
    "<div class=\"other\">Other</div>\n",
    "from IPython.core.display import HTML\n"
   ]
  },
  {
   "cell_type": "code",
   "execution_count": 2,
   "metadata": {},
   "outputs": [
    {
     "data": {
      "text/html": [
       "\n",
       "<style>\n",
       "\n",
       "/* Github and Jupyter Notebook Markdown Custom Styles */\n",
       "\n",
       "/* Note Red */\n",
       ".danger {\n",
       "  background-color: #ffdddd;\n",
       "  border-left: 6px solid #f44336;\n",
       "}\n",
       "\n",
       "/* Note Green */\n",
       ".success {\n",
       "  background-color: #ddffdd;\n",
       "  border-left: 6px solid #4caf50;\n",
       "}\n",
       "\n",
       "/* Note Blue */\n",
       ".info {\n",
       "  background-color: #e7f3fe;\n",
       "  border-left: 6px solid #2196f3;\n",
       "}\n",
       "\n",
       "/* Note Yellow */\n",
       ".warning {\n",
       "  background-color: #ffffcc;\n",
       "  border-left: 6px solid #ffeb3b;\n",
       "}\n",
       "\n",
       "/* Note Gray */\n",
       ".other {\n",
       "  background-color: #e7e7e7;\n",
       "  border-left: 6px solid #696965;\n",
       "}\n",
       "\n",
       "/* Marker Yellow */\n",
       ".m_warning {\n",
       "  background-color: yellow;\n",
       "}\n",
       "\n",
       "/* Marker Gray */\n",
       ".m_other {\n",
       "  background-color: lightgray;\n",
       "}\n",
       "\n",
       "/* Marker Blue */\n",
       ".m_info {\n",
       "  background-color: lightblue;\n",
       "}\n",
       "\n",
       "/* Marker Orange */\n",
       ".m_danger {\n",
       "  background-color: #ffdddd;\n",
       "}\n",
       "\n",
       ".m_success {\n",
       "  background-color: #ddffdd;\n",
       "} \n",
       "</style>"
      ],
      "text/plain": [
       "<IPython.core.display.HTML object>"
      ]
     },
     "execution_count": 2,
     "metadata": {},
     "output_type": "execute_result"
    }
   ],
   "source": [
    "from IPython.core.display import HTML\n",
    "\n",
    "def set_css_style(css_file_path):\n",
    "    \"\"\"\n",
    "    Read the custom CSS file and load it into Jupyter.\n",
    "    Pass the file path to the CSS file.\n",
    "    \"\"\"\n",
    "    styles = open(css_file_path, \"r\").read()\n",
    "    return HTML(styles)\n",
    "set_css_style('../Css/custom.css')"
   ]
  },
  {
   "cell_type": "markdown",
   "metadata": {},
   "source": [
    "<a id=\"custom_styles\"></a>"
   ]
  },
  {
   "cell_type": "markdown",
   "metadata": {},
   "source": [
    "# Mac Notes\n",
    "[Making Sense of Mac Keyboard Symbols](http://osxdaily.com/2012/03/27/making-sense-of-mac-keyboard-symbols/)\n",
    "\n",
    "## Password Protected File\n",
    "1. Open the file.\n",
    "1. In the File menu select **Save As**.\n",
    "1. In the popup dialog window, check **Save with password** box.\n",
    "1. Click the **Replace** button.\n",
    "1. In the popup dialog enteer the password you want to use.\n",
    "\n",
    "<div class=\"danger\">Write down the password and keep it an a safe place.</div>\n"
   ]
  },
  {
   "cell_type": "markdown",
   "metadata": {},
   "source": [
    "# References\n",
    "- [Jupyter Notebook Documentation](https://jupyter-notebook.readthedocs.io/en/stable/)\n",
    "- [Markdown Guide](http://markdown-guide.readthedocs.io/en/latest/index.html)\n",
    "- [28 Jupyter Notebook tips, tricks and shortcuts](https://www.dataquest.io/blog/jupyter-notebook-tips-tricks-shortcuts/)\n",
    "- [Jupyter Notebook Tutorial: The Definitve Guide](https://www.datacamp.com/community/tutorials/tutorial-jupyter-notebook)\n",
    "- [Making Sense of Mac Keyboard Symbols](http://osxdaily.com/2012/03/27/making-sense-of-mac-keyboard-symbols/)\n",
    "- [3d surface plot in Plotly](https://nbviewer.jupyter.org/gist/jackparmer/8d7e979bc4cec23db057)"
   ]
  },
  {
   "cell_type": "markdown",
   "metadata": {},
   "source": [
    "more ....."
   ]
  }
 ],
 "metadata": {
  "kernelspec": {
   "display_name": "Python 3",
   "language": "python",
   "name": "python3"
  },
  "language_info": {
   "codemirror_mode": {
    "name": "ipython",
    "version": 3
   },
   "file_extension": ".py",
   "mimetype": "text/x-python",
   "name": "python",
   "nbconvert_exporter": "python",
   "pygments_lexer": "ipython3",
   "version": "3.7.0"
  }
 },
 "nbformat": 4,
 "nbformat_minor": 2
}
